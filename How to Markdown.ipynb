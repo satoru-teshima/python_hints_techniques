{
 "cells": [
  {
   "cell_type": "markdown",
   "id": "4ed8e8da",
   "metadata": {},
   "source": [
    "# How To Markdown"
   ]
  },
  {
   "cell_type": "markdown",
   "id": "c7fdf27a",
   "metadata": {},
   "source": [
    "**INDEX**\n",
    "\n",
    "1. [Paragraph](#Paragraph)  \n",
    "<br>\n",
    "1. [Breaks](#Breaks)\n",
    "<br>\n",
    "\n",
    "1. [Headers](#Headers)\n",
    "<br>\n",
    "1. [Links](#Links)\n",
    "<br>\n",
    "1. [Block Quotes](#Block-Quotes)\n",
    "<br>\n",
    "1. [Lists](#Ordered-Lists)\n",
    "<br>\n",
    "1. [Formatting](#Formatting)\n",
    "<br>\n",
    "1. [Table](#Create-a-table)\n",
    "<br>\n",
    "1. [Paragraph](#Paragraph)"
   ]
  },
  {
   "cell_type": "markdown",
   "id": "094a9e6e",
   "metadata": {},
   "source": [
    "### Paragraph"
   ]
  },
  {
   "cell_type": "markdown",
   "id": "52ffcc30",
   "metadata": {},
   "source": [
    "If you type sentences like the following it will not show quite the way you expect it to. They won't break!\n",
    "\n",
    "Hello it's me\n",
    "I've been wandering around the park\n",
    "Thinking why it couldnt have been me. "
   ]
  },
  {
   "cell_type": "markdown",
   "id": "83c81726",
   "metadata": {},
   "source": [
    "### Breaks\n",
    "\n",
    "There are two ways to line-break. Soft break and hard break. \n",
    "\n",
    "**Soft break(add two spaces)**\n",
    "\n",
    "Hello it's me  \n",
    "I've been wandering around the park  \n",
    "Thinking why it couldnt have been me.   "
   ]
  },
  {
   "cell_type": "markdown",
   "id": "891c8153",
   "metadata": {},
   "source": [
    "**Hard break (add a break line in between sentences. )**\n",
    "\n",
    "Hello it's me\n",
    "\n",
    "\n",
    "I've been wandering around the park\n",
    "\n",
    "\n",
    "Thinking why it couldnt have been me. "
   ]
  },
  {
   "cell_type": "markdown",
   "id": "a5d1a7d7",
   "metadata": {},
   "source": [
    "### Headers \n",
    "\n",
    "There are 6 header types "
   ]
  },
  {
   "cell_type": "markdown",
   "id": "dc150629",
   "metadata": {},
   "source": [
    "1  \n",
    "# Header\n",
    "2  \n",
    "## Header\n",
    "3  \n",
    "### Header\n",
    "4   \n",
    "#### Header\n",
    "5  \n",
    "##### Header\n",
    "6  \n",
    "###### Header"
   ]
  },
  {
   "cell_type": "markdown",
   "id": "1dbe85da",
   "metadata": {},
   "source": [
    "### Links\n",
    "\n",
    "Wrap the text of the link in [] and between  brackets add the link\n",
    "\n",
    "[this is a link to YouTube](https://www.youtube.com/) "
   ]
  },
  {
   "cell_type": "markdown",
   "id": "f5e798ff",
   "metadata": {},
   "source": [
    "### Images\n",
    "\n",
    "Exclamation mark, square brackets. \n",
    " \n",
    " \n",
    "![image of a man eating curry rice](https://media.istockphoto.com/id/526837209/photo/real-indian-man-eating-with-hands-in-indian-restaurant.jpg?s=612x612&w=0&k=20&c=zZ9YmeL2oUB5hDqk_6F7eXycRIo05z4jd5_RHZSMEJk=)"
   ]
  },
  {
   "cell_type": "markdown",
   "id": "1e225921",
   "metadata": {},
   "source": [
    "### Block Quotes\n",
    "\n",
    "Block quotes are used to draw attention to quotes from other sources.   \n",
    "Simply add '>' \n",
    "\n",
    "> I’ll poke it. With my willy. **Roy Edmonds**\n",
    "\n"
   ]
  },
  {
   "cell_type": "markdown",
   "id": "8b06d576",
   "metadata": {},
   "source": [
    "### Ordered Lists\n",
    "\n",
    "In ordered lists each list start with a number.   \n",
    "\n",
    "**Things to cook for Roy**\n",
    "1. Nikujaga\n",
    "1. Gyoza\n",
    "1. Curry Rice\n",
    "1. Omurice"
   ]
  },
  {
   "cell_type": "markdown",
   "id": "b037586b",
   "metadata": {},
   "source": [
    "#### Unordered Lists\n",
    "\n",
    "In unordered lists, simply add an asterisk \n",
    "\n",
    "**Things to look forward to**\n",
    "\n",
    "* New job\n",
    "* New career\n",
    "* Lots of fun\n",
    "* PJ Harvey london play"
   ]
  },
  {
   "cell_type": "markdown",
   "id": "5b297567",
   "metadata": {},
   "source": [
    "### Nested lists\n",
    "* item one\n",
    "    1. subitem one \n",
    "    1. subitem two\n",
    "    1. subitem three  \n",
    "        * level four\n",
    "            * lebel five \n",
    "                               "
   ]
  },
  {
   "cell_type": "markdown",
   "id": "d745f0c3",
   "metadata": {},
   "source": [
    "### Formatting\n",
    "\n",
    "**Underline**  \n",
    "< u > < / u > will do \n",
    "\n",
    "Hey! It's <u>me</u> "
   ]
  },
  {
   "cell_type": "markdown",
   "id": "05a1a835",
   "metadata": {},
   "source": [
    "**Bold**  \n",
    "two asterisks sandwich makes a sentence bold.\n",
    "\n",
    "**this is bold text**\n",
    "\n",
    "**Italic**  \n",
    "an underscore sandwich makes a sentence italic.\n",
    "\n",
    "_this is italic text_ \n",
    "\n",
    "**Combined**\n",
    "\n",
    "combine two asterisks and underscore to make a bold and italic text.\n",
    "\n",
    "**_this is both bold and italic_**"
   ]
  },
  {
   "cell_type": "markdown",
   "id": "c857a848",
   "metadata": {},
   "source": [
    "### Create a table \n",
    "\n",
    "Using dashes - and pipes | \n",
    "\n"
   ]
  },
  {
   "cell_type": "markdown",
   "id": "84b1ade2",
   "metadata": {},
   "source": [
    "| language ID | language |\n",
    "| --- | --- |\n",
    "| 1 | Japanese |\n",
    "| 2 | English |\n",
    "| 3 | French |\n",
    "| 4 | Korean |\n",
    "| 5 | Thai |"
   ]
  },
  {
   "cell_type": "code",
   "execution_count": null,
   "id": "dd6dc4f1",
   "metadata": {},
   "outputs": [],
   "source": []
  }
 ],
 "metadata": {
  "kernelspec": {
   "display_name": "Python 3 (ipykernel)",
   "language": "python",
   "name": "python3"
  },
  "language_info": {
   "codemirror_mode": {
    "name": "ipython",
    "version": 3
   },
   "file_extension": ".py",
   "mimetype": "text/x-python",
   "name": "python",
   "nbconvert_exporter": "python",
   "pygments_lexer": "ipython3",
   "version": "3.11.4"
  }
 },
 "nbformat": 4,
 "nbformat_minor": 5
}
